{
  "nbformat": 4,
  "nbformat_minor": 0,
  "metadata": {
    "colab": {
      "name": "Reuters.ipynb",
      "provenance": [],
      "collapsed_sections": [],
      "authorship_tag": "ABX9TyNg04gNsjJKFMXxoYJF10SM",
      "include_colab_link": true
    },
    "kernelspec": {
      "name": "python3",
      "display_name": "Python 3"
    }
  },
  "cells": [
    {
      "cell_type": "markdown",
      "metadata": {
        "id": "view-in-github",
        "colab_type": "text"
      },
      "source": [
        "<a href=\"https://colab.research.google.com/github/shantanu1singh/ml-practice/blob/master/collab/Reuters.ipynb\" target=\"_parent\"><img src=\"https://colab.research.google.com/assets/colab-badge.svg\" alt=\"Open In Colab\"/></a>"
      ]
    },
    {
      "cell_type": "code",
      "metadata": {
        "id": "jUxkOg6iZVcu",
        "colab_type": "code",
        "colab": {
          "base_uri": "https://localhost:8080/",
          "height": 52
        },
        "outputId": "a2a4cc5f-bd61-4723-b398-ee10191d3a21"
      },
      "source": [
        "from keras.datasets import reuters\n",
        "\n",
        "(train_data, train_labels), (test_data, test_labels) = reuters.load_data(\n",
        "    num_words=10000)"
      ],
      "execution_count": 1,
      "outputs": [
        {
          "output_type": "stream",
          "text": [
            "Downloading data from https://storage.googleapis.com/tensorflow/tf-keras-datasets/reuters.npz\n",
            "2113536/2110848 [==============================] - 0s 0us/step\n"
          ],
          "name": "stdout"
        }
      ]
    },
    {
      "cell_type": "markdown",
      "metadata": {
        "id": "rC8CmH3PZlxl",
        "colab_type": "text"
      },
      "source": [
        "## Converting reviews to a vector of the same size 10000"
      ]
    },
    {
      "cell_type": "code",
      "metadata": {
        "id": "o24a8Pp_Zm5S",
        "colab_type": "code",
        "colab": {}
      },
      "source": [
        "import numpy as np\n",
        "\n",
        "def vectorize_sequences(sequences, dimension=10000):\n",
        "    results = np.zeros((len(sequences), dimension))        \n",
        "    for i, sequence in enumerate(sequences):\n",
        "        results[i, sequence] = 1.                          \n",
        "    return results\n",
        "\n",
        "x_train = vectorize_sequences(train_data)                  \n",
        "x_test = vectorize_sequences(test_data)     \n",
        "\n",
        "# Another way to handle labels and loss\n",
        "# - Integer encode the labels to integer tensor\n",
        "# - Use sparse_categorical_crossentropy instead of categorical_crossentropy as loss function"
      ],
      "execution_count": 2,
      "outputs": []
    },
    {
      "cell_type": "markdown",
      "metadata": {
        "id": "Y6g_5ecUZy79",
        "colab_type": "text"
      },
      "source": [
        "## One hot encoding labels"
      ]
    },
    {
      "cell_type": "code",
      "metadata": {
        "id": "MLeuIl7KZzKl",
        "colab_type": "code",
        "colab": {}
      },
      "source": [
        "def to_one_hot(labels, dimension=46):\n",
        "    results = np.zeros((len(labels), dimension))\n",
        "    for i, label in enumerate(labels):\n",
        "        results[i, label] = 1.\n",
        "    return results\n",
        "\n",
        "one_hot_train_labels = to_one_hot(train_labels)        \n",
        "one_hot_test_labels = to_one_hot(test_labels) \n",
        "\n",
        "# Another way to run onehot encoding\n",
        "# from keras.utils.np_utils import to_categorical\n",
        "\n",
        "# one_hot_train_labels = to_categorical(train_labels)\n",
        "# one_hot_test_labels = to_categorical(test_labels)"
      ],
      "execution_count": 4,
      "outputs": []
    },
    {
      "cell_type": "markdown",
      "metadata": {
        "id": "tN7EP1y7aU-T",
        "colab_type": "text"
      },
      "source": [
        "## Build model"
      ]
    },
    {
      "cell_type": "code",
      "metadata": {
        "id": "j0XXAE_zaVVQ",
        "colab_type": "code",
        "colab": {}
      },
      "source": [
        "from keras import models\n",
        "from keras import layers\n",
        "\n",
        "model = models.Sequential()\n",
        "model.add(layers.Dense(64, activation='relu', input_shape=(10000,))) # Using 64 dimensional intermediate layers as there are 46 classes. If 16 dimensional layers were chosen, we have a risk of the layers dropping information \n",
        "model.add(layers.Dense(64, activation='relu'))\n",
        "model.add(layers.Dense(46, activation='softmax'))\n",
        "\n",
        "model.compile(optimizer='rmsprop',\n",
        "              loss='categorical_crossentropy',\n",
        "              metrics=['accuracy'])"
      ],
      "execution_count": 6,
      "outputs": []
    },
    {
      "cell_type": "markdown",
      "metadata": {
        "id": "meYWR-WNa6MG",
        "colab_type": "text"
      },
      "source": [
        "## Setting aside validation data"
      ]
    },
    {
      "cell_type": "code",
      "metadata": {
        "id": "Z4GVvOefa6QZ",
        "colab_type": "code",
        "colab": {}
      },
      "source": [
        "x_val = x_train[:1000]\n",
        "partial_x_train = x_train[1000:]\n",
        "\n",
        "y_val = one_hot_train_labels[:1000]\n",
        "partial_y_train = one_hot_train_labels[1000:]"
      ],
      "execution_count": 7,
      "outputs": []
    },
    {
      "cell_type": "markdown",
      "metadata": {
        "id": "XFITl1q7bAcR",
        "colab_type": "text"
      },
      "source": [
        "## Run model"
      ]
    },
    {
      "cell_type": "code",
      "metadata": {
        "id": "-WzJka86bAm4",
        "colab_type": "code",
        "colab": {
          "base_uri": "https://localhost:8080/",
          "height": 711
        },
        "outputId": "1d6f2a22-5e5d-4081-d460-42811d96a09c"
      },
      "source": [
        "history = model.fit(partial_x_train,\n",
        "                    partial_y_train,\n",
        "                    epochs=20,\n",
        "                    batch_size=512,\n",
        "                    validation_data=(x_val, y_val))"
      ],
      "execution_count": 8,
      "outputs": [
        {
          "output_type": "stream",
          "text": [
            "Epoch 1/20\n",
            "16/16 [==============================] - 1s 56ms/step - loss: 2.7240 - accuracy: 0.5197 - val_loss: 1.8282 - val_accuracy: 0.6290\n",
            "Epoch 2/20\n",
            "16/16 [==============================] - 1s 44ms/step - loss: 1.4613 - accuracy: 0.7103 - val_loss: 1.3143 - val_accuracy: 0.7260\n",
            "Epoch 3/20\n",
            "16/16 [==============================] - 1s 43ms/step - loss: 1.0623 - accuracy: 0.7762 - val_loss: 1.1139 - val_accuracy: 0.7610\n",
            "Epoch 4/20\n",
            "16/16 [==============================] - 1s 43ms/step - loss: 0.8297 - accuracy: 0.8266 - val_loss: 1.0200 - val_accuracy: 0.7790\n",
            "Epoch 5/20\n",
            "16/16 [==============================] - 1s 43ms/step - loss: 0.6574 - accuracy: 0.8662 - val_loss: 0.9528 - val_accuracy: 0.8020\n",
            "Epoch 6/20\n",
            "16/16 [==============================] - 1s 43ms/step - loss: 0.5214 - accuracy: 0.8955 - val_loss: 0.9090 - val_accuracy: 0.8150\n",
            "Epoch 7/20\n",
            "16/16 [==============================] - 1s 43ms/step - loss: 0.4181 - accuracy: 0.9186 - val_loss: 0.9207 - val_accuracy: 0.8070\n",
            "Epoch 8/20\n",
            "16/16 [==============================] - 1s 43ms/step - loss: 0.3433 - accuracy: 0.9286 - val_loss: 0.9089 - val_accuracy: 0.8040\n",
            "Epoch 9/20\n",
            "16/16 [==============================] - 1s 43ms/step - loss: 0.2835 - accuracy: 0.9375 - val_loss: 0.8657 - val_accuracy: 0.8240\n",
            "Epoch 10/20\n",
            "16/16 [==============================] - 1s 43ms/step - loss: 0.2406 - accuracy: 0.9441 - val_loss: 0.8845 - val_accuracy: 0.8200\n",
            "Epoch 11/20\n",
            "16/16 [==============================] - 1s 44ms/step - loss: 0.2073 - accuracy: 0.9481 - val_loss: 0.9092 - val_accuracy: 0.8160\n",
            "Epoch 12/20\n",
            "16/16 [==============================] - 1s 44ms/step - loss: 0.1808 - accuracy: 0.9503 - val_loss: 0.9254 - val_accuracy: 0.8110\n",
            "Epoch 13/20\n",
            "16/16 [==============================] - 1s 43ms/step - loss: 0.1657 - accuracy: 0.9529 - val_loss: 0.9625 - val_accuracy: 0.8080\n",
            "Epoch 14/20\n",
            "16/16 [==============================] - 1s 43ms/step - loss: 0.1541 - accuracy: 0.9528 - val_loss: 0.9580 - val_accuracy: 0.8120\n",
            "Epoch 15/20\n",
            "16/16 [==============================] - 1s 43ms/step - loss: 0.1423 - accuracy: 0.9558 - val_loss: 0.9727 - val_accuracy: 0.8190\n",
            "Epoch 16/20\n",
            "16/16 [==============================] - 1s 43ms/step - loss: 0.1313 - accuracy: 0.9554 - val_loss: 0.9884 - val_accuracy: 0.8180\n",
            "Epoch 17/20\n",
            "16/16 [==============================] - 1s 44ms/step - loss: 0.1269 - accuracy: 0.9554 - val_loss: 1.0070 - val_accuracy: 0.8100\n",
            "Epoch 18/20\n",
            "16/16 [==============================] - 1s 42ms/step - loss: 0.1166 - accuracy: 0.9565 - val_loss: 1.0030 - val_accuracy: 0.8070\n",
            "Epoch 19/20\n",
            "16/16 [==============================] - 1s 44ms/step - loss: 0.1155 - accuracy: 0.9567 - val_loss: 1.0503 - val_accuracy: 0.8080\n",
            "Epoch 20/20\n",
            "16/16 [==============================] - 1s 43ms/step - loss: 0.1138 - accuracy: 0.9563 - val_loss: 1.0975 - val_accuracy: 0.8030\n"
          ],
          "name": "stdout"
        }
      ]
    },
    {
      "cell_type": "markdown",
      "metadata": {
        "id": "CjEEvUPUbDvB",
        "colab_type": "text"
      },
      "source": [
        "## Plotting loss"
      ]
    },
    {
      "cell_type": "code",
      "metadata": {
        "id": "9hk-3JXsbD4P",
        "colab_type": "code",
        "colab": {
          "base_uri": "https://localhost:8080/",
          "height": 295
        },
        "outputId": "8cb516b7-7b63-4d9c-99f1-7ddf9dee0d95"
      },
      "source": [
        "import matplotlib.pyplot as plt\n",
        "\n",
        "loss = history.history['loss']\n",
        "val_loss = history.history['val_loss']\n",
        "\n",
        "epochs = range(1, len(loss) + 1)\n",
        "\n",
        "plt.plot(epochs, loss, 'bo', label='Training loss')\n",
        "plt.plot(epochs, val_loss, 'b', label='Validation loss')\n",
        "plt.title('Training and validation loss')\n",
        "plt.xlabel('Epochs')\n",
        "plt.ylabel('Loss')\n",
        "plt.legend()\n",
        "\n",
        "plt.show()"
      ],
      "execution_count": 9,
      "outputs": [
        {
          "output_type": "display_data",
          "data": {
            "image/png": "[encoded data removed]",
            "text/plain": [
              "<Figure size 432x288 with 1 Axes>"
            ]
          },
          "metadata": {
            "tags": [],
            "needs_background": "light"
          }
        }
      ]
    },
    {
      "cell_type": "markdown",
      "metadata": {
        "id": "J-1l8H_FbENY",
        "colab_type": "text"
      },
      "source": [
        "## Plotting accuracy"
      ]
    },
    {
      "cell_type": "code",
      "metadata": {
        "id": "7vgyOGOtbESX",
        "colab_type": "code",
        "colab": {
          "base_uri": "https://localhost:8080/",
          "height": 295
        },
        "outputId": "b94b9d13-a0f9-4a43-9ea2-eb33188b2ffc"
      },
      "source": [
        "plt.clf()                                                \n",
        "\n",
        "acc = history.history['accuracy']\n",
        "val_acc = history.history['val_accuracy']\n",
        "\n",
        "plt.plot(epochs, acc, 'bo', label='Training acc')\n",
        "plt.plot(epochs, val_acc, 'b', label='Validation acc')\n",
        "plt.title('Training and validation accuracy')\n",
        "plt.xlabel('Epochs')\n",
        "plt.ylabel('Accuracy')\n",
        "plt.legend()\n",
        "\n",
        "plt.show()"
      ],
      "execution_count": 12,
      "outputs": [
        {
          "output_type": "display_data",
          "data": {
            "image/png": "[encoded data removed]",
            "text/plain": [
              "<Figure size 432x288 with 1 Axes>"
            ]
          },
          "metadata": {
            "tags": [],
            "needs_background": "light"
          }
        }
      ]
    },
    {
      "cell_type": "markdown",
      "metadata": {
        "id": "-YJLyiiybZyv",
        "colab_type": "text"
      },
      "source": [
        "## Since overfitting is seen to occur after 9 epochs, run model again with 9 epochs only"
      ]
    },
    {
      "cell_type": "code",
      "metadata": {
        "id": "UrZjrcufbZ_s",
        "colab_type": "code",
        "colab": {
          "base_uri": "https://localhost:8080/",
          "height": 347
        },
        "outputId": "4013b453-50c6-4fc0-d150-dbd8f7ff6723"
      },
      "source": [
        "model = models.Sequential()\n",
        "model.add(layers.Dense(64, activation='relu', input_shape=(10000,)))\n",
        "model.add(layers.Dense(64, activation='relu'))\n",
        "model.add(layers.Dense(46, activation='softmax'))\n",
        "\n",
        "model.compile(optimizer='rmsprop',\n",
        "              loss='categorical_crossentropy',\n",
        "              metrics=['accuracy'])\n",
        "model.fit(partial_x_train,\n",
        "          partial_y_train,\n",
        "          epochs=9,\n",
        "          batch_size=512,\n",
        "          validation_data=(x_val, y_val))\n",
        "results = model.evaluate(x_test, one_hot_test_labels)"
      ],
      "execution_count": 13,
      "outputs": [
        {
          "output_type": "stream",
          "text": [
            "Epoch 1/9\n",
            "16/16 [==============================] - 1s 52ms/step - loss: 2.5833 - accuracy: 0.5360 - val_loss: 1.6873 - val_accuracy: 0.6530\n",
            "Epoch 2/9\n",
            "16/16 [==============================] - 1s 45ms/step - loss: 1.3841 - accuracy: 0.7146 - val_loss: 1.2960 - val_accuracy: 0.7160\n",
            "Epoch 3/9\n",
            "16/16 [==============================] - 1s 42ms/step - loss: 1.0494 - accuracy: 0.7720 - val_loss: 1.1460 - val_accuracy: 0.7370\n",
            "Epoch 4/9\n",
            "16/16 [==============================] - 1s 43ms/step - loss: 0.8392 - accuracy: 0.8172 - val_loss: 1.0346 - val_accuracy: 0.7720\n",
            "Epoch 5/9\n",
            "16/16 [==============================] - 1s 43ms/step - loss: 0.6782 - accuracy: 0.8527 - val_loss: 0.9871 - val_accuracy: 0.7870\n",
            "Epoch 6/9\n",
            "16/16 [==============================] - 1s 44ms/step - loss: 0.5480 - accuracy: 0.8830 - val_loss: 0.9317 - val_accuracy: 0.8010\n",
            "Epoch 7/9\n",
            "16/16 [==============================] - 1s 43ms/step - loss: 0.4425 - accuracy: 0.9059 - val_loss: 0.9140 - val_accuracy: 0.8060\n",
            "Epoch 8/9\n",
            "16/16 [==============================] - 1s 43ms/step - loss: 0.3578 - accuracy: 0.9260 - val_loss: 0.9516 - val_accuracy: 0.8000\n",
            "Epoch 9/9\n",
            "16/16 [==============================] - 1s 43ms/step - loss: 0.2984 - accuracy: 0.9372 - val_loss: 0.9050 - val_accuracy: 0.8170\n",
            "71/71 [==============================] - 0s 2ms/step - loss: 0.9901 - accuracy: 0.7836\n"
          ],
          "name": "stdout"
        }
      ]
    },
    {
      "cell_type": "markdown",
      "metadata": {
        "id": "pGGEJ8u9bok6",
        "colab_type": "text"
      },
      "source": [
        "## Comparison against random selection"
      ]
    },
    {
      "cell_type": "code",
      "metadata": {
        "id": "SyJk8_kCbosC",
        "colab_type": "code",
        "colab": {
          "base_uri": "https://localhost:8080/",
          "height": 35
        },
        "outputId": "ced66187-375c-422c-dffd-bed694bb8369"
      },
      "source": [
        "import copy\n",
        "test_labels_copy = copy.copy(test_labels)\n",
        "np.random.shuffle(test_labels_copy)\n",
        "hits_array = np.array(test_labels) == np.array(test_labels_copy)\n",
        "float(np.sum(hits_array)) / len(test_labels)"
      ],
      "execution_count": 14,
      "outputs": [
        {
          "output_type": "execute_result",
          "data": {
            "text/plain": [
              "0.18388245770258238"
            ]
          },
          "metadata": {
            "tags": []
          },
          "execution_count": 14
        }
      ]
    },
    {
      "cell_type": "markdown",
      "metadata": {
        "id": "zJP-_MbqcZW1",
        "colab_type": "text"
      },
      "source": [
        "## Predict "
      ]
    },
    {
      "cell_type": "code",
      "metadata": {
        "id": "9s_ghn4ocZa9",
        "colab_type": "code",
        "colab": {
          "base_uri": "https://localhost:8080/",
          "height": 243
        },
        "outputId": "ff938efb-861e-4921-839a-e488fa66e093"
      },
      "source": [
        "predictions = model.predict(x_test)\n",
        "predictions"
      ],
      "execution_count": 16,
      "outputs": [
        {
          "output_type": "execute_result",
          "data": {
            "text/plain": [
              "array([[3.6040707e-05, 1.9887573e-05, 8.8164506e-06, ..., 2.7164248e-05,\n",
              "        2.0472527e-05, 2.5347344e-06],\n",
              "       [7.6758838e-03, 1.6990779e-01, 3.0560114e-03, ..., 3.9356877e-03,\n",
              "        5.4361894e-06, 1.7498967e-05],\n",
              "       [2.0252250e-02, 7.0987666e-01, 8.1476057e-03, ..., 3.9574695e-03,\n",
              "        2.3656122e-04, 3.5039621e-04],\n",
              "       ...,\n",
              "       [1.8435459e-05, 1.6683123e-05, 1.0549827e-05, ..., 1.5769961e-05,\n",
              "        7.5912045e-05, 5.8895121e-06],\n",
              "       [1.9067611e-03, 5.1697128e-02, 9.1594700e-03, ..., 1.8408034e-03,\n",
              "        9.2881423e-04, 4.3453943e-04],\n",
              "       [1.4416997e-03, 4.4252032e-01, 2.1870947e-02, ..., 1.5186458e-03,\n",
              "        8.9438108e-05, 7.3560594e-05]], dtype=float32)"
            ]
          },
          "metadata": {
            "tags": []
          },
          "execution_count": 16
        }
      ]
    }
  ]
}