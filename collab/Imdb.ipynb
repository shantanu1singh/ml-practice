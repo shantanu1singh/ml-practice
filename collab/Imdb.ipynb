{
  "nbformat": 4,
  "nbformat_minor": 0,
  "metadata": {
    "colab": {
      "name": "Imdb.ipynb",
      "provenance": [],
      "authorship_tag": "ABX9TyPTa+mooxHlRLa4ZpFVPffG",
      "include_colab_link": true
    },
    "kernelspec": {
      "name": "python3",
      "display_name": "Python 3"
    }
  },
  "cells": [
    {
      "cell_type": "markdown",
      "metadata": {
        "id": "view-in-github",
        "colab_type": "text"
      },
      "source": [
        "<a href=\"https://colab.research.google.com/github/shantanu1singh/ml-practice/blob/master/collab/Imdb.ipynb\" target=\"_parent\"><img src=\"https://colab.research.google.com/assets/colab-badge.svg\" alt=\"Open In Colab\"/></a>"
      ]
    },
    {
      "cell_type": "code",
      "metadata": {
        "id": "8cS5Lm3ZIFVP",
        "colab_type": "code",
        "colab": {}
      },
      "source": [
        "from keras.datasets import imdb\n",
        "\n",
        "(train_data, train_labels), (test_data, test_labels) = imdb.load_data(\n",
        "    num_words=10000)"
      ],
      "execution_count": 9,
      "outputs": []
    },
    {
      "cell_type": "markdown",
      "metadata": {
        "id": "Da6pOimERlE_",
        "colab_type": "text"
      },
      "source": [
        "## How to get review from indices"
      ]
    },
    {
      "cell_type": "code",
      "metadata": {
        "id": "g_BRKNpqRJEJ",
        "colab_type": "code",
        "colab": {
          "base_uri": "https://localhost:8080/",
          "height": 55
        },
        "outputId": "419628dd-177e-4088-f1ea-0a21115fd30c"
      },
      "source": [
        "word_index = imdb.get_word_index()                                    \n",
        "reverse_word_index = dict(\n",
        "    [(value, key) for (key, value) in word_index.items()])           \n",
        "decoded_review = ' '.join(\n",
        "    [reverse_word_index.get(i - 3, '?') for i in train_data[0]])  # Note that the indices are offset by 3 because 0, 1, and 2 are reserved indices for “padding,” “start of sequence,” and “unknown.”\n",
        "print(decoded_review)"
      ],
      "execution_count": 10,
      "outputs": [
        {
          "output_type": "stream",
          "text": [
            "? this film was just brilliant casting location scenery story direction everyone's really suited the part they played and you could just imagine being there robert ? is an amazing actor and now the same being director ? father came from the same scottish island as myself so i loved the fact there was a real connection with this film the witty remarks throughout the film were great it was just brilliant so much that i bought the film as soon as it was released for ? and would recommend it to everyone to watch and the fly fishing was amazing really cried at the end it was so sad and you know what they say if you cry at a film it must have been good and this definitely was also ? to the two little boy's that played the ? of norman and paul they were just brilliant children are often left out of the ? list i think because the stars that play them all grown up are such a big profile for the whole film but these children are amazing and should be praised for what they have done don't you think the whole story was so lovely because it was true and was someone's life after all that was shared with us all\n"
          ],
          "name": "stdout"
        }
      ]
    },
    {
      "cell_type": "markdown",
      "metadata": {
        "id": "M2jHgg4VSIeJ",
        "colab_type": "text"
      },
      "source": [
        "## Converting reviews to a vector of the same size 10000"
      ]
    },
    {
      "cell_type": "code",
      "metadata": {
        "id": "Rc2bcsIWSIki",
        "colab_type": "code",
        "colab": {}
      },
      "source": [
        "import numpy as np\n",
        "\n",
        "def vectorize_sequences(sequences, dimension=10000):\n",
        "    results = np.zeros((len(sequences), dimension))        \n",
        "    for i, sequence in enumerate(sequences):\n",
        "        results[i, sequence] = 1.                          \n",
        "    return results\n",
        "\n",
        "x_train = vectorize_sequences(train_data)                  \n",
        "x_test = vectorize_sequences(test_data)     "
      ],
      "execution_count": 11,
      "outputs": []
    },
    {
      "cell_type": "markdown",
      "metadata": {
        "id": "572K-ahQSjrf",
        "colab_type": "text"
      },
      "source": [
        "## Vectorize labels"
      ]
    },
    {
      "cell_type": "code",
      "metadata": {
        "id": "JzC7C4QASjzD",
        "colab_type": "code",
        "colab": {}
      },
      "source": [
        "y_train = np.asarray(train_labels).astype('float32')\n",
        "y_test = np.asarray(test_labels).astype('float32')"
      ],
      "execution_count": 12,
      "outputs": []
    },
    {
      "cell_type": "markdown",
      "metadata": {
        "id": "1W82HFyFTw5m",
        "colab_type": "text"
      },
      "source": [
        "## Build model layers"
      ]
    },
    {
      "cell_type": "code",
      "metadata": {
        "id": "e0xC6ss4TxC7",
        "colab_type": "code",
        "colab": {}
      },
      "source": [
        "from keras import models\n",
        "from keras import layers\n",
        "\n",
        "model = models.Sequential()\n",
        "model.add(layers.Dense(16, activation='relu', input_shape=(10000,)))\n",
        "model.add(layers.Dense(16, activation='relu'))\n",
        "model.add(layers.Dense(1, activation='sigmoid'))\n",
        "\n",
        "model.compile(optimizer='rmsprop',\n",
        "              loss='binary_crossentropy',\n",
        "              metrics=['accuracy'])"
      ],
      "execution_count": 13,
      "outputs": []
    },
    {
      "cell_type": "markdown",
      "metadata": {
        "id": "Ur4_pfbyU4ya",
        "colab_type": "text"
      },
      "source": [
        "## Setting aside validation data"
      ]
    },
    {
      "cell_type": "code",
      "metadata": {
        "id": "PWTLSkw7U439",
        "colab_type": "code",
        "colab": {}
      },
      "source": [
        "x_val = x_train[:10000]\n",
        "partial_x_train = x_train[10000:]\n",
        "y_val = y_train[:10000]\n",
        "partial_y_train = y_train[10000:]"
      ],
      "execution_count": 14,
      "outputs": []
    },
    {
      "cell_type": "markdown",
      "metadata": {
        "id": "Ixs8N70NU9tv",
        "colab_type": "text"
      },
      "source": [
        "## Build model and monitor loss and accuracy by passing in the validation data"
      ]
    },
    {
      "cell_type": "code",
      "metadata": {
        "id": "dkakHIhoU-Ag",
        "colab_type": "code",
        "colab": {
          "base_uri": "https://localhost:8080/",
          "height": 728
        },
        "outputId": "90da493e-f5e4-4b40-a707-5c4b45f699f3"
      },
      "source": [
        "history = model.fit(partial_x_train,\n",
        "                    partial_y_train,\n",
        "                    epochs=20,\n",
        "                    batch_size=512,\n",
        "                    validation_data=(x_val, y_val))\n",
        "\n",
        "history_dict = history.history\n",
        "history_dict.keys()"
      ],
      "execution_count": 15,
      "outputs": [
        {
          "output_type": "stream",
          "text": [
            "Epoch 1/20\n",
            "30/30 [==============================] - 1s 45ms/step - loss: 0.5011 - accuracy: 0.7932 - val_loss: 0.4244 - val_accuracy: 0.8176\n",
            "Epoch 2/20\n",
            "30/30 [==============================] - 1s 31ms/step - loss: 0.2941 - accuracy: 0.9053 - val_loss: 0.3015 - val_accuracy: 0.8874\n",
            "Epoch 3/20\n",
            "30/30 [==============================] - 1s 32ms/step - loss: 0.2184 - accuracy: 0.9269 - val_loss: 0.2775 - val_accuracy: 0.8897\n",
            "Epoch 4/20\n",
            "30/30 [==============================] - 1s 30ms/step - loss: 0.1733 - accuracy: 0.9427 - val_loss: 0.3001 - val_accuracy: 0.8786\n",
            "Epoch 5/20\n",
            "30/30 [==============================] - 1s 31ms/step - loss: 0.1387 - accuracy: 0.9569 - val_loss: 0.2815 - val_accuracy: 0.8874\n",
            "Epoch 6/20\n",
            "30/30 [==============================] - 1s 31ms/step - loss: 0.1157 - accuracy: 0.9637 - val_loss: 0.3016 - val_accuracy: 0.8842\n",
            "Epoch 7/20\n",
            "30/30 [==============================] - 1s 31ms/step - loss: 0.0954 - accuracy: 0.9719 - val_loss: 0.3092 - val_accuracy: 0.8827\n",
            "Epoch 8/20\n",
            "30/30 [==============================] - 1s 31ms/step - loss: 0.0769 - accuracy: 0.9788 - val_loss: 0.3466 - val_accuracy: 0.8800\n",
            "Epoch 9/20\n",
            "30/30 [==============================] - 1s 31ms/step - loss: 0.0605 - accuracy: 0.9845 - val_loss: 0.3740 - val_accuracy: 0.8766\n",
            "Epoch 10/20\n",
            "30/30 [==============================] - 1s 30ms/step - loss: 0.0523 - accuracy: 0.9871 - val_loss: 0.3787 - val_accuracy: 0.8783\n",
            "Epoch 11/20\n",
            "30/30 [==============================] - 1s 31ms/step - loss: 0.0392 - accuracy: 0.9914 - val_loss: 0.4343 - val_accuracy: 0.8683\n",
            "Epoch 12/20\n",
            "30/30 [==============================] - 1s 31ms/step - loss: 0.0307 - accuracy: 0.9943 - val_loss: 0.4450 - val_accuracy: 0.8748\n",
            "Epoch 13/20\n",
            "30/30 [==============================] - 1s 30ms/step - loss: 0.0249 - accuracy: 0.9948 - val_loss: 0.4716 - val_accuracy: 0.8728\n",
            "Epoch 14/20\n",
            "30/30 [==============================] - 1s 31ms/step - loss: 0.0208 - accuracy: 0.9958 - val_loss: 0.4942 - val_accuracy: 0.8741\n",
            "Epoch 15/20\n",
            "30/30 [==============================] - 1s 31ms/step - loss: 0.0135 - accuracy: 0.9987 - val_loss: 0.5297 - val_accuracy: 0.8711\n",
            "Epoch 16/20\n",
            "30/30 [==============================] - 1s 30ms/step - loss: 0.0123 - accuracy: 0.9985 - val_loss: 0.5632 - val_accuracy: 0.8709\n",
            "Epoch 17/20\n",
            "30/30 [==============================] - 1s 31ms/step - loss: 0.0103 - accuracy: 0.9986 - val_loss: 0.5894 - val_accuracy: 0.8693\n",
            "Epoch 18/20\n",
            "30/30 [==============================] - 1s 30ms/step - loss: 0.0050 - accuracy: 0.9999 - val_loss: 0.6239 - val_accuracy: 0.8678\n",
            "Epoch 19/20\n",
            "30/30 [==============================] - 1s 30ms/step - loss: 0.0075 - accuracy: 0.9985 - val_loss: 0.6638 - val_accuracy: 0.8690\n",
            "Epoch 20/20\n",
            "30/30 [==============================] - 1s 31ms/step - loss: 0.0026 - accuracy: 0.9999 - val_loss: 0.6919 - val_accuracy: 0.8679\n"
          ],
          "name": "stdout"
        },
        {
          "output_type": "execute_result",
          "data": {
            "text/plain": [
              "dict_keys(['loss', 'accuracy', 'val_loss', 'val_accuracy'])"
            ]
          },
          "metadata": {
            "tags": []
          },
          "execution_count": 15
        }
      ]
    },
    {
      "cell_type": "markdown",
      "metadata": {
        "id": "uV4ctkHiVbPY",
        "colab_type": "text"
      },
      "source": [
        "## Plotting training and validation loss"
      ]
    },
    {
      "cell_type": "code",
      "metadata": {
        "id": "FDyQuc1MVbV0",
        "colab_type": "code",
        "colab": {
          "base_uri": "https://localhost:8080/",
          "height": 295
        },
        "outputId": "5cf2e263-5ab5-464d-8230-150665b5145b"
      },
      "source": [
        "import matplotlib.pyplot as plt\n",
        "\n",
        "history_dict = history.history\n",
        "loss_values = history_dict['loss']\n",
        "val_loss_values = history_dict['val_loss']\n",
        "\n",
        "epochs = range(1, len(loss_values) + 1)\n",
        "\n",
        "plt.plot(epochs, loss_values, 'bo', label='Training loss')           \n",
        "plt.plot(epochs, val_loss_values, 'b', label='Validation loss')      \n",
        "plt.title('Training and validation loss')\n",
        "plt.xlabel('Epochs')\n",
        "plt.ylabel('Loss')\n",
        "plt.legend()\n",
        "\n",
        "plt.show()"
      ],
      "execution_count": 16,
      "outputs": [
        {
          "output_type": "display_data",
          "data": {
            "image/png": "[encoded data removed]",
            "text/plain": [
              "<Figure size 432x288 with 1 Axes>"
            ]
          },
          "metadata": {
            "tags": [],
            "needs_background": "light"
          }
        }
      ]
    },
    {
      "cell_type": "markdown",
      "metadata": {
        "id": "DQnLaFtmVyfT",
        "colab_type": "text"
      },
      "source": [
        "## Plotting training and validation accuracy"
      ]
    },
    {
      "cell_type": "code",
      "metadata": {
        "id": "afQe6JwcVypf",
        "colab_type": "code",
        "colab": {
          "base_uri": "https://localhost:8080/",
          "height": 295
        },
        "outputId": "da0e913f-ef57-41ac-e376-eb7217c589f4"
      },
      "source": [
        "plt.clf()                                      \n",
        "acc = history_dict['accuracy']\n",
        "val_acc = history_dict['val_accuracy']\n",
        "\n",
        "plt.plot(epochs, acc, 'bo', label='Training accuracy')\n",
        "plt.plot(epochs, val_acc, 'b', label='Validation accuracy')\n",
        "plt.title('Training and validation accuracy')\n",
        "plt.xlabel('Epochs')\n",
        "plt.ylabel('Accuracy')\n",
        "plt.legend()\n",
        "\n",
        "plt.show()\n",
        "\n",
        "# As the accuracy over training data increases but not over validation data, it implies overfitting.\n",
        "# Action: Reduce number of epochs."
      ],
      "execution_count": 18,
      "outputs": [
        {
          "output_type": "display_data",
          "data": {
            "image/png": "[encoded data removed]",
            "text/plain": [
              "<Figure size 432x288 with 1 Axes>"
            ]
          },
          "metadata": {
            "tags": [],
            "needs_background": "light"
          }
        }
      ]
    },
    {
      "cell_type": "markdown",
      "metadata": {
        "id": "eK6ylJqvWhQC",
        "colab_type": "text"
      },
      "source": [
        "## Using 4 epochs"
      ]
    },
    {
      "cell_type": "code",
      "metadata": {
        "id": "ftOHuglJWhc7",
        "colab_type": "code",
        "colab": {
          "base_uri": "https://localhost:8080/",
          "height": 131
        },
        "outputId": "086448b8-f4d4-47c2-8473-f99b224130ef"
      },
      "source": [
        "model = models.Sequential()\n",
        "model.add(layers.Dense(16, activation='relu', input_shape=(10000,)))\n",
        "model.add(layers.Dense(16, activation='relu'))\n",
        "model.add(layers.Dense(1, activation='sigmoid'))\n",
        "\n",
        "model.compile(optimizer='rmsprop',\n",
        "              loss='binary_crossentropy',\n",
        "              metrics=['accuracy'])\n",
        "\n",
        "model.fit(x_train, y_train, epochs=4, batch_size=512)\n",
        "results = model.evaluate(x_test, y_test)\n",
        "\n",
        "results"
      ],
      "execution_count": 20,
      "outputs": [
        {
          "output_type": "error",
          "ename": "IndentationError",
          "evalue": "ignored",
          "traceback": [
            "\u001b[0;36m  File \u001b[0;32m\"<ipython-input-20-c231503be993>\"\u001b[0;36m, line \u001b[0;32m15\u001b[0m\n\u001b[0;31m    model.predict(x_test)\u001b[0m\n\u001b[0m    ^\u001b[0m\n\u001b[0;31mIndentationError\u001b[0m\u001b[0;31m:\u001b[0m unexpected indent\n"
          ]
        }
      ]
    },
    {
      "cell_type": "code",
      "metadata": {
        "id": "3Oj1Xx8-W6Mv",
        "colab_type": "code",
        "colab": {
          "base_uri": "https://localhost:8080/",
          "height": 139
        },
        "outputId": "67515118-4c6f-4162-d550-e335268bb753"
      },
      "source": [
        "model.predict(x_test)\n",
        "\n",
        "# Shows that model is confident for some reviews (whether they are positive or not) based on really high or really low probability, but not for others"
      ],
      "execution_count": 21,
      "outputs": [
        {
          "output_type": "execute_result",
          "data": {
            "text/plain": [
              "array([[0.15762573],\n",
              "       [0.9999304 ],\n",
              "       [0.76649296],\n",
              "       ...,\n",
              "       [0.1066556 ],\n",
              "       [0.06346583],\n",
              "       [0.48602962]], dtype=float32)"
            ]
          },
          "metadata": {
            "tags": []
          },
          "execution_count": 21
        }
      ]
    }
  ]
}